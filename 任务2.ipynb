{
 "cells": [
  {
   "cell_type": "markdown",
   "metadata": {},
   "source": [
    "## 任务2：梯度计算和梯度下降过程"
   ]
  },
  {
   "cell_type": "code",
   "execution_count": 5,
   "metadata": {},
   "outputs": [],
   "source": [
    "import numpy as np\n",
    "import torch\n",
    "from torch.utils.data import TensorDataset\n",
    "from torch.utils.data import DataLoader\n",
    "\n",
    "x_train = np.arange(0, 100, 0.01, dtype=np.float)\n",
    "x_train = x_train.reshape(x_train.shape[0], 1)\n",
    "y_train = 10 * x_train + 4 + np.random.randn()\n",
    "x_train = torch.from_numpy(x_train)\n",
    "y_train = torch.from_numpy(y_train)\n",
    "dataset = TensorDataset(x_train, y_train)\n",
    "batch_size = 100\n",
    "train_loader = DataLoader(dataset, batch_size=batch_size, shuffle=True)\n",
    "\n",
    "w = torch.randn(1, requires_grad=True, dtype=torch.float64)\n",
    "b = torch.randn(1, requires_grad=True, dtype=torch.float64)"
   ]
  },
  {
   "cell_type": "code",
   "execution_count": 7,
   "metadata": {},
   "outputs": [
    {
     "name": "stdout",
     "output_type": "stream",
     "text": [
      "0 tensor(0.8434, dtype=torch.float64, grad_fn=<MseLossBackward>)\n",
      "10 tensor(0.6927, dtype=torch.float64, grad_fn=<MseLossBackward>)\n",
      "20 tensor(0.6798, dtype=torch.float64, grad_fn=<MseLossBackward>)\n",
      "30 tensor(0.4682, dtype=torch.float64, grad_fn=<MseLossBackward>)\n",
      "40 tensor(0.3755, dtype=torch.float64, grad_fn=<MseLossBackward>)\n",
      "50 tensor(0.4239, dtype=torch.float64, grad_fn=<MseLossBackward>)\n",
      "60 tensor(0.4943, dtype=torch.float64, grad_fn=<MseLossBackward>)\n",
      "70 tensor(0.3490, dtype=torch.float64, grad_fn=<MseLossBackward>)\n",
      "80 tensor(0.3445, dtype=torch.float64, grad_fn=<MseLossBackward>)\n",
      "90 tensor(0.2473, dtype=torch.float64, grad_fn=<MseLossBackward>)\n",
      "100 tensor(0.2424, dtype=torch.float64, grad_fn=<MseLossBackward>)\n",
      "110 tensor(0.2542, dtype=torch.float64, grad_fn=<MseLossBackward>)\n",
      "120 tensor(0.2165, dtype=torch.float64, grad_fn=<MseLossBackward>)\n",
      "130 tensor(0.2082, dtype=torch.float64, grad_fn=<MseLossBackward>)\n",
      "140 tensor(0.1928, dtype=torch.float64, grad_fn=<MseLossBackward>)\n",
      "150 tensor(0.1527, dtype=torch.float64, grad_fn=<MseLossBackward>)\n",
      "160 tensor(0.1705, dtype=torch.float64, grad_fn=<MseLossBackward>)\n",
      "170 tensor(0.1498, dtype=torch.float64, grad_fn=<MseLossBackward>)\n",
      "180 tensor(0.1149, dtype=torch.float64, grad_fn=<MseLossBackward>)\n",
      "190 tensor(0.0964, dtype=torch.float64, grad_fn=<MseLossBackward>)\n",
      "200 tensor(0.0951, dtype=torch.float64, grad_fn=<MseLossBackward>)\n",
      "210 tensor(0.0809, dtype=torch.float64, grad_fn=<MseLossBackward>)\n",
      "220 tensor(0.0843, dtype=torch.float64, grad_fn=<MseLossBackward>)\n",
      "230 tensor(0.0668, dtype=torch.float64, grad_fn=<MseLossBackward>)\n",
      "240 tensor(0.0643, dtype=torch.float64, grad_fn=<MseLossBackward>)\n",
      "250 tensor(0.0688, dtype=torch.float64, grad_fn=<MseLossBackward>)\n",
      "260 tensor(0.0592, dtype=torch.float64, grad_fn=<MseLossBackward>)\n",
      "270 tensor(0.0501, dtype=torch.float64, grad_fn=<MseLossBackward>)\n",
      "280 tensor(0.0410, dtype=torch.float64, grad_fn=<MseLossBackward>)\n",
      "290 tensor(0.0410, dtype=torch.float64, grad_fn=<MseLossBackward>)\n",
      "300 tensor(0.0300, dtype=torch.float64, grad_fn=<MseLossBackward>)\n",
      "310 tensor(0.0307, dtype=torch.float64, grad_fn=<MseLossBackward>)\n",
      "320 tensor(0.0330, dtype=torch.float64, grad_fn=<MseLossBackward>)\n",
      "330 tensor(0.0274, dtype=torch.float64, grad_fn=<MseLossBackward>)\n",
      "340 tensor(0.0245, dtype=torch.float64, grad_fn=<MseLossBackward>)\n",
      "350 tensor(0.0237, dtype=torch.float64, grad_fn=<MseLossBackward>)\n",
      "360 tensor(0.0201, dtype=torch.float64, grad_fn=<MseLossBackward>)\n",
      "370 tensor(0.0143, dtype=torch.float64, grad_fn=<MseLossBackward>)\n",
      "380 tensor(0.0159, dtype=torch.float64, grad_fn=<MseLossBackward>)\n",
      "390 tensor(0.0166, dtype=torch.float64, grad_fn=<MseLossBackward>)\n",
      "400 tensor(0.0133, dtype=torch.float64, grad_fn=<MseLossBackward>)\n",
      "410 tensor(0.0129, dtype=torch.float64, grad_fn=<MseLossBackward>)\n",
      "420 tensor(0.0098, dtype=torch.float64, grad_fn=<MseLossBackward>)\n",
      "430 tensor(0.0115, dtype=torch.float64, grad_fn=<MseLossBackward>)\n",
      "440 tensor(0.0087, dtype=torch.float64, grad_fn=<MseLossBackward>)\n",
      "450 tensor(0.0085, dtype=torch.float64, grad_fn=<MseLossBackward>)\n",
      "460 tensor(0.0061, dtype=torch.float64, grad_fn=<MseLossBackward>)\n",
      "470 tensor(0.0069, dtype=torch.float64, grad_fn=<MseLossBackward>)\n",
      "480 tensor(0.0085, dtype=torch.float64, grad_fn=<MseLossBackward>)\n",
      "490 tensor(0.0052, dtype=torch.float64, grad_fn=<MseLossBackward>)\n"
     ]
    }
   ],
   "source": [
    "epochs =500\n",
    "learning_rate = 1e-4\n",
    "loss_func = torch.nn.MSELoss()\n",
    "for i in range(epochs):\n",
    "    for inp, target in train_loader:\n",
    "        z = torch.matmul(inp, w) + b\n",
    "        z = z.reshape(z.shape[0], 1)\n",
    "        loss = loss_func(z, target)\n",
    "        loss.backward()\n",
    "        with torch.no_grad():\n",
    "            w -= learning_rate * w.grad\n",
    "            b -= learning_rate * b.grad\n",
    "            w.grad.zero_()\n",
    "            b.grad.zero_()\n",
    "    \n",
    "    if i % 10 == 0:\n",
    "        print(i, loss)"
   ]
  },
  {
   "cell_type": "code",
   "execution_count": 3,
   "metadata": {},
   "outputs": [
    {
     "data": {
      "text/plain": [
       "tensor([10.0072], dtype=torch.float64, requires_grad=True)"
      ]
     },
     "execution_count": 3,
     "metadata": {},
     "output_type": "execute_result"
    }
   ],
   "source": [
    "w"
   ]
  },
  {
   "cell_type": "code",
   "execution_count": 4,
   "metadata": {},
   "outputs": [
    {
     "data": {
      "text/plain": [
       "tensor([6.4750], dtype=torch.float64, requires_grad=True)"
      ]
     },
     "execution_count": 4,
     "metadata": {},
     "output_type": "execute_result"
    }
   ],
   "source": [
    "b"
   ]
  },
  {
   "cell_type": "markdown",
   "metadata": {},
   "source": [
    "y = 10.0056 * x + 3.9470"
   ]
  },
  {
   "cell_type": "code",
   "execution_count": 21,
   "metadata": {},
   "outputs": [
    {
     "data": {
      "text/plain": [
       "tensor([[0.0100],\n",
       "        [0.0200],\n",
       "        [0.0300],\n",
       "        [0.0400],\n",
       "        [0.0500],\n",
       "        [0.0600],\n",
       "        [0.0700],\n",
       "        [0.0800],\n",
       "        [0.0900]], dtype=torch.float64)"
      ]
     },
     "execution_count": 21,
     "metadata": {},
     "output_type": "execute_result"
    }
   ],
   "source": [
    "x_train[1:10]"
   ]
  },
  {
   "cell_type": "code",
   "execution_count": 22,
   "metadata": {},
   "outputs": [
    {
     "data": {
      "text/plain": [
       "tensor([[4.4201],\n",
       "        [4.5201],\n",
       "        [4.6201],\n",
       "        [4.7201],\n",
       "        [4.8201],\n",
       "        [4.9201],\n",
       "        [5.0201],\n",
       "        [5.1201],\n",
       "        [5.2201]], dtype=torch.float64)"
      ]
     },
     "execution_count": 22,
     "metadata": {},
     "output_type": "execute_result"
    }
   ],
   "source": [
    "y_train[1:10]"
   ]
  },
  {
   "cell_type": "code",
   "execution_count": 23,
   "metadata": {},
   "outputs": [
    {
     "data": {
      "text/plain": [
       "tensor([[4.0471],\n",
       "        [4.1471],\n",
       "        [4.2472],\n",
       "        [4.3472],\n",
       "        [4.4473],\n",
       "        [4.5473],\n",
       "        [4.6474],\n",
       "        [4.7474],\n",
       "        [4.8475]], dtype=torch.float64)"
      ]
     },
     "execution_count": 23,
     "metadata": {},
     "output_type": "execute_result"
    }
   ],
   "source": [
    "y_pred = 10.0056 * x_train[1:10] + 3.9470\n",
    "y_pred"
   ]
  },
  {
   "cell_type": "code",
   "execution_count": null,
   "metadata": {},
   "outputs": [],
   "source": []
  }
 ],
 "metadata": {
  "kernelspec": {
   "display_name": "Python 3",
   "language": "python",
   "name": "python3"
  },
  "language_info": {
   "codemirror_mode": {
    "name": "ipython",
    "version": 3
   },
   "file_extension": ".py",
   "mimetype": "text/x-python",
   "name": "python",
   "nbconvert_exporter": "python",
   "pygments_lexer": "ipython3",
   "version": "3.7.1"
  }
 },
 "nbformat": 4,
 "nbformat_minor": 2
}
