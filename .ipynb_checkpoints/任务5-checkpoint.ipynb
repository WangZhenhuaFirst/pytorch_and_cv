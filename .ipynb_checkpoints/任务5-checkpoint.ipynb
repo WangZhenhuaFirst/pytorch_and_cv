{
 "cells": [
  {
   "cell_type": "code",
   "execution_count": null,
   "metadata": {},
   "outputs": [],
   "source": [
    "import torch.nn as nn\n",
    "\n",
    "nn.Conv2d(\n",
    "    in_channels = 1, #输入信号的通道，1表示单通道\n",
    "    out_channels=32, #卷积产生的通道\n",
    "    kernel_size=5,   #卷积核的尺寸 5 * 5\n",
    "    stride=1,       #卷积步长\n",
    "    padding=2\n",
    ")"
   ]
  },
  {
   "cell_type": "code",
   "execution_count": 5,
   "metadata": {},
   "outputs": [
    {
     "name": "stdout",
     "output_type": "stream",
     "text": [
      "参数量：\n"
     ]
    },
    {
     "data": {
      "text/plain": [
       "832"
      ]
     },
     "execution_count": 5,
     "metadata": {},
     "output_type": "execute_result"
    }
   ],
   "source": [
    "print('参数量：')\n",
    "(5 * 5 + 1) * 32"
   ]
  }
 ],
 "metadata": {
  "kernelspec": {
   "display_name": "Python 3",
   "language": "python",
   "name": "python3"
  },
  "language_info": {
   "codemirror_mode": {
    "name": "ipython",
    "version": 3
   },
   "file_extension": ".py",
   "mimetype": "text/x-python",
   "name": "python",
   "nbconvert_exporter": "python",
   "pygments_lexer": "ipython3",
   "version": "3.7.1"
  }
 },
 "nbformat": 4,
 "nbformat_minor": 2
}
