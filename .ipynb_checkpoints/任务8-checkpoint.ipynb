{
 "cells": [
  {
   "cell_type": "markdown",
   "metadata": {},
   "source": [
    "## 任务8：使用PyTorch搭建VGG网络\n",
    "https://zhuanlan.zhihu.com/p/263527295\n",
    "\n",
    "VGG的思路就是利用多个小尺寸的卷积核串联代替大尺寸卷积核，减少网络的参数。"
   ]
  },
  {
   "cell_type": "code",
   "execution_count": 2,
   "metadata": {},
   "outputs": [
    {
     "name": "stdout",
     "output_type": "stream",
     "text": [
      "Looking in indexes: https://pypi.tuna.tsinghua.edu.cn/simple\n",
      "Collecting torchsummary\n",
      "  Downloading https://pypi.tuna.tsinghua.edu.cn/packages/7d/18/1474d06f721b86e6a9b9d7392ad68bed711a02f3b61ac43f13c719db50a6/torchsummary-1.5.1-py3-none-any.whl (2.8 kB)\n",
      "Installing collected packages: torchsummary\n",
      "Successfully installed torchsummary-1.5.1\n",
      "\u001b[33mWARNING: You are using pip version 21.0.1; however, version 21.3.1 is available.\n",
      "You should consider upgrading via the '/Users/huazai/anaconda3/bin/python -m pip install --upgrade pip' command.\u001b[0m\n",
      "Note: you may need to restart the kernel to use updated packages.\n"
     ]
    }
   ],
   "source": [
    "pip install torchsummary"
   ]
  },
  {
   "cell_type": "code",
   "execution_count": 3,
   "metadata": {},
   "outputs": [],
   "source": [
    "import torch.nn as nn\n",
    "import torch.nn.functional as F\n",
    "from torchsummary import summary\n",
    "\n",
    "class VGG(nn.Module):\n",
    "    def __init__(self, arch: object, num_classes=1000) -> object:\n",
    "        super(VGG, self).__init__()\n",
    "        self.in_channels = 3\n",
    "        self.conv3_64 = self.__make_layer(64, arch[0])\n",
    "        self.conv3_128 = self.__make_layer(128, arch[1])\n",
    "        self.conv3_256 = self.__make_layer(256, arch[2])\n",
    "        self.conv3_512a = self.__make_layer(512, arch[3])\n",
    "        self.conv3_512b = self.__make_layer(512, arch[4])\n",
    "        self.fc1 = nn.Linear(7*7*512, 4096)\n",
    "        self.bn1 = nn.BatchNorm1d(4096)\n",
    "        self.bn2 = nn.BatchNorm1d(4096)\n",
    "        self.fc2 = nn.Linear(4096, 4096)\n",
    "        self.fc3 = nn.Linear(4096, num_classes)\n",
    "        \n",
    "    def __make_layer(self, channels, num):\n",
    "        layers = []\n",
    "        for i in range(num):\n",
    "            layers.append(nn.Conv2d(self.in_channels, channels, 3, stride=1, padding=1, bias=False))\n",
    "            layers.append(nn.BatchNorm2d(channels))\n",
    "            layers.append(nn.ReLU())\n",
    "            self.in_channels = channels\n",
    "        return nn.Sequential(*layers)\n",
    "    \n",
    "    def forward(self, x):\n",
    "        out = self.conv3_64(x)\n",
    "        out = F.max_pool2d(out, 2)\n",
    "        out = self.conv3_128(out)\n",
    "        out = F.max_pool2d(out, 2)\n",
    "        out = self.conv3_256(out)\n",
    "        out = F.max_pool2d(out, 2)\n",
    "        out = self.conv3_512a(out)\n",
    "        out = F.max_pool2d(out, 2)\n",
    "        out = self.conv3_512b(out)\n",
    "        out = F.max_pool2d(out, 2)\n",
    "        out = out.view(out.size(0), -1)\n",
    "        out = self.fc1(out)\n",
    "        out = self.bn1(out)\n",
    "        out = F.relu(out)\n",
    "        out = self.fc2(out)\n",
    "        out = self.bn2(out)\n",
    "        out = F.relu(out)\n",
    "        return F.softmax(self.fc3(out))"
   ]
  },
  {
   "cell_type": "code",
   "execution_count": 4,
   "metadata": {},
   "outputs": [],
   "source": [
    "def VGG_11():\n",
    "    return VGG([1, 1, 2, 2, 2], num_classes=1000)\n",
    "\n",
    "def VGG_13():\n",
    "    return VGG([1, 1, 2, 2, 2], num_classes=1000)\n",
    "\n",
    "def VGG_16():\n",
    "    return VGG([2, 2, 3, 3, 3], num_classes=1000)\n",
    "\n",
    "def VGG_19():\n",
    "    return VGG([2, 2, 4, 4, 4], num_classes=1000)"
   ]
  },
  {
   "cell_type": "code",
   "execution_count": 7,
   "metadata": {},
   "outputs": [
    {
     "name": "stdout",
     "output_type": "stream",
     "text": [
      "----------------------------------------------------------------\n",
      "        Layer (type)               Output Shape         Param #\n",
      "================================================================\n",
      "            Conv2d-1         [-1, 64, 224, 224]           1,728\n",
      "       BatchNorm2d-2         [-1, 64, 224, 224]             128\n",
      "              ReLU-3         [-1, 64, 224, 224]               0\n",
      "            Conv2d-4        [-1, 128, 112, 112]          73,728\n",
      "       BatchNorm2d-5        [-1, 128, 112, 112]             256\n",
      "              ReLU-6        [-1, 128, 112, 112]               0\n",
      "            Conv2d-7          [-1, 256, 56, 56]         294,912\n",
      "       BatchNorm2d-8          [-1, 256, 56, 56]             512\n",
      "              ReLU-9          [-1, 256, 56, 56]               0\n",
      "           Conv2d-10          [-1, 256, 56, 56]         589,824\n",
      "      BatchNorm2d-11          [-1, 256, 56, 56]             512\n",
      "             ReLU-12          [-1, 256, 56, 56]               0\n",
      "           Conv2d-13          [-1, 512, 28, 28]       1,179,648\n",
      "      BatchNorm2d-14          [-1, 512, 28, 28]           1,024\n",
      "             ReLU-15          [-1, 512, 28, 28]               0\n",
      "           Conv2d-16          [-1, 512, 28, 28]       2,359,296\n",
      "      BatchNorm2d-17          [-1, 512, 28, 28]           1,024\n",
      "             ReLU-18          [-1, 512, 28, 28]               0\n",
      "           Conv2d-19          [-1, 512, 14, 14]       2,359,296\n",
      "      BatchNorm2d-20          [-1, 512, 14, 14]           1,024\n",
      "             ReLU-21          [-1, 512, 14, 14]               0\n",
      "           Conv2d-22          [-1, 512, 14, 14]       2,359,296\n",
      "      BatchNorm2d-23          [-1, 512, 14, 14]           1,024\n",
      "             ReLU-24          [-1, 512, 14, 14]               0\n",
      "           Linear-25                 [-1, 4096]     102,764,544\n",
      "      BatchNorm1d-26                 [-1, 4096]           8,192\n",
      "           Linear-27                 [-1, 4096]      16,781,312\n",
      "      BatchNorm1d-28                 [-1, 4096]           8,192\n",
      "           Linear-29                 [-1, 1000]       4,097,000\n",
      "================================================================\n",
      "Total params: 132,882,472\n",
      "Trainable params: 132,882,472\n",
      "Non-trainable params: 0\n",
      "----------------------------------------------------------------\n",
      "Input size (MB): 0.57\n",
      "Forward/backward pass size (MB): 170.10\n",
      "Params size (MB): 506.91\n",
      "Estimated Total Size (MB): 677.58\n",
      "----------------------------------------------------------------\n"
     ]
    },
    {
     "name": "stderr",
     "output_type": "stream",
     "text": [
      "/Users/huazai/anaconda3/lib/python3.7/site-packages/ipykernel_launcher.py:47: UserWarning: Implicit dimension choice for softmax has been deprecated. Change the call to include dim=X as an argument.\n"
     ]
    }
   ],
   "source": [
    "def test():\n",
    "    net = VGG_11()\n",
    "#     net = VGG_13()\n",
    "#     net = VGG_16()\n",
    "#     net = VGG_19()\n",
    "    summary(net, (3, 224, 224))\n",
    "test()"
   ]
  },
  {
   "cell_type": "code",
   "execution_count": null,
   "metadata": {},
   "outputs": [],
   "source": []
  }
 ],
 "metadata": {
  "kernelspec": {
   "display_name": "Python 3",
   "language": "python",
   "name": "python3"
  },
  "language_info": {
   "codemirror_mode": {
    "name": "ipython",
    "version": 3
   },
   "file_extension": ".py",
   "mimetype": "text/x-python",
   "name": "python",
   "nbconvert_exporter": "python",
   "pygments_lexer": "ipython3",
   "version": "3.7.1"
  }
 },
 "nbformat": 4,
 "nbformat_minor": 2
}
