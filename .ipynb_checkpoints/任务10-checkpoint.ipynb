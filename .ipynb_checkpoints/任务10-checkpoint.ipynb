{
 "cells": [
  {
   "cell_type": "markdown",
   "metadata": {},
   "source": [
    "## 任务10：使用PyTorch完成Fashion-MNIST分类\n",
    "https://github.com/masoudrostami/Fashion-MNIST-using-PyTorch/blob/main/MNIST%20Fashion%20Project.ipynb"
   ]
  },
  {
   "cell_type": "code",
   "execution_count": 3,
   "metadata": {},
   "outputs": [],
   "source": [
    "import torch\n",
    "import numpy as np\n",
    "import pandas as pd\n",
    "import matplotlib.pyplot as plt\n",
    "from torch import nn, optim\n",
    "from torchvision import datasets, transforms\n",
    "import torchvision\n",
    "from torch.utils.data import Dataset, DataLoader\n",
    "import torch.nn.functional as F\n",
    "from sklearn.metrics import confusion_matrix"
   ]
  },
  {
   "cell_type": "code",
   "execution_count": 4,
   "metadata": {},
   "outputs": [],
   "source": [
    "device = torch.device(\"cuda:0\" if torch.cuda.is_available() else \"cpu\")"
   ]
  },
  {
   "cell_type": "code",
   "execution_count": 5,
   "metadata": {},
   "outputs": [
    {
     "name": "stdout",
     "output_type": "stream",
     "text": [
      "1.8.1\n"
     ]
    }
   ],
   "source": [
    "print(torch.__version__)"
   ]
  },
  {
   "cell_type": "code",
   "execution_count": 7,
   "metadata": {},
   "outputs": [],
   "source": [
    "transform = transforms.Compose([transforms.ToTensor(), \n",
    "                                transforms.Normalize((0.5,), (0.5,))])"
   ]
  },
  {
   "cell_type": "code",
   "execution_count": 8,
   "metadata": {},
   "outputs": [
    {
     "name": "stdout",
     "output_type": "stream",
     "text": [
      "Downloading http://fashion-mnist.s3-website.eu-central-1.amazonaws.com/train-images-idx3-ubyte.gz\n",
      "Downloading http://fashion-mnist.s3-website.eu-central-1.amazonaws.com/train-images-idx3-ubyte.gz to /Users/huazai/.pytorch/F_MNIST_data/FashionMNIST/raw/train-images-idx3-ubyte.gz\n"
     ]
    },
    {
     "data": {
      "application/vnd.jupyter.widget-view+json": {
       "model_id": "f3f1e0c0b7854c4ba437a058ddde8126",
       "version_major": 2,
       "version_minor": 0
      },
      "text/plain": [
       "  0%|          | 0/26421880 [00:00<?, ?it/s]"
      ]
     },
     "metadata": {},
     "output_type": "display_data"
    },
    {
     "name": "stdout",
     "output_type": "stream",
     "text": [
      "Extracting /Users/huazai/.pytorch/F_MNIST_data/FashionMNIST/raw/train-images-idx3-ubyte.gz to /Users/huazai/.pytorch/F_MNIST_data/FashionMNIST/raw\n",
      "\n",
      "Downloading http://fashion-mnist.s3-website.eu-central-1.amazonaws.com/train-labels-idx1-ubyte.gz\n",
      "Downloading http://fashion-mnist.s3-website.eu-central-1.amazonaws.com/train-labels-idx1-ubyte.gz to /Users/huazai/.pytorch/F_MNIST_data/FashionMNIST/raw/train-labels-idx1-ubyte.gz\n"
     ]
    },
    {
     "data": {
      "application/vnd.jupyter.widget-view+json": {
       "model_id": "93d09373f3ac467dab90fffe733acafe",
       "version_major": 2,
       "version_minor": 0
      },
      "text/plain": [
       "  0%|          | 0/29515 [00:00<?, ?it/s]"
      ]
     },
     "metadata": {},
     "output_type": "display_data"
    },
    {
     "name": "stdout",
     "output_type": "stream",
     "text": [
      "Extracting /Users/huazai/.pytorch/F_MNIST_data/FashionMNIST/raw/train-labels-idx1-ubyte.gz to /Users/huazai/.pytorch/F_MNIST_data/FashionMNIST/raw\n",
      "\n",
      "Downloading http://fashion-mnist.s3-website.eu-central-1.amazonaws.com/t10k-images-idx3-ubyte.gz\n",
      "Downloading http://fashion-mnist.s3-website.eu-central-1.amazonaws.com/t10k-images-idx3-ubyte.gz to /Users/huazai/.pytorch/F_MNIST_data/FashionMNIST/raw/t10k-images-idx3-ubyte.gz\n"
     ]
    },
    {
     "data": {
      "application/vnd.jupyter.widget-view+json": {
       "model_id": "758062b6e1f44a77b0697da52eec02f6",
       "version_major": 2,
       "version_minor": 0
      },
      "text/plain": [
       "  0%|          | 0/4422102 [00:00<?, ?it/s]"
      ]
     },
     "metadata": {},
     "output_type": "display_data"
    },
    {
     "name": "stdout",
     "output_type": "stream",
     "text": [
      "Extracting /Users/huazai/.pytorch/F_MNIST_data/FashionMNIST/raw/t10k-images-idx3-ubyte.gz to /Users/huazai/.pytorch/F_MNIST_data/FashionMNIST/raw\n",
      "\n",
      "Downloading http://fashion-mnist.s3-website.eu-central-1.amazonaws.com/t10k-labels-idx1-ubyte.gz\n",
      "Downloading http://fashion-mnist.s3-website.eu-central-1.amazonaws.com/t10k-labels-idx1-ubyte.gz to /Users/huazai/.pytorch/F_MNIST_data/FashionMNIST/raw/t10k-labels-idx1-ubyte.gz\n"
     ]
    },
    {
     "data": {
      "application/vnd.jupyter.widget-view+json": {
       "model_id": "3d1a4e0b797b4120939c08636988b2ac",
       "version_major": 2,
       "version_minor": 0
      },
      "text/plain": [
       "  0%|          | 0/5148 [00:00<?, ?it/s]"
      ]
     },
     "metadata": {},
     "output_type": "display_data"
    },
    {
     "name": "stdout",
     "output_type": "stream",
     "text": [
      "Extracting /Users/huazai/.pytorch/F_MNIST_data/FashionMNIST/raw/t10k-labels-idx1-ubyte.gz to /Users/huazai/.pytorch/F_MNIST_data/FashionMNIST/raw\n",
      "\n",
      "Processing...\n",
      "Done!\n"
     ]
    },
    {
     "name": "stderr",
     "output_type": "stream",
     "text": [
      "/Users/huazai/anaconda3/lib/python3.7/site-packages/torchvision/datasets/mnist.py:502: UserWarning: The given NumPy array is not writeable, and PyTorch does not support non-writeable tensors. This means you can write to the underlying (supposedly non-writeable) NumPy array using the tensor. You may want to copy the array to protect its data or make it writeable before converting it to a tensor. This type of warning will be suppressed for the rest of this program. (Triggered internally at  ../torch/csrc/utils/tensor_numpy.cpp:143.)\n",
      "  return torch.from_numpy(parsed.astype(m[2], copy=False)).view(*s)\n"
     ]
    }
   ],
   "source": [
    "trainset = torchvision.datasets.FashionMNIST('~/.pytorch/F_MNIST_data/', download=True, train=True, transform=transform)\n",
    "testset = torchvision.datasets.FashionMNIST('~/.pytorch/F_MNIST_data', download=True, train=False, transform=transform)"
   ]
  },
  {
   "cell_type": "code",
   "execution_count": 9,
   "metadata": {},
   "outputs": [
    {
     "name": "stderr",
     "output_type": "stream",
     "text": [
      "/Users/huazai/anaconda3/lib/python3.7/site-packages/torch/utils/data/dataloader.py:477: UserWarning: This DataLoader will create 10 worker processes in total. Our suggested max number of worker in current system is 8 (`cpuset` is not taken into account), which is smaller than what this DataLoader is going to create. Please be aware that excessive worker creation might get DataLoader running slow or even freeze, lower the worker number to avoid potential slowness/freeze if necessary.\n",
      "  cpuset_checked))\n"
     ]
    }
   ],
   "source": [
    "trainloader = torch.utils.data.DataLoader(trainset, batch_size=64, shuffle=True, num_workers=10)\n",
    "testloader = torch.utils.data.DataLoader(testset, batch_size=64, shuffle=True, num_workers=10)"
   ]
  },
  {
   "cell_type": "code",
   "execution_count": 10,
   "metadata": {},
   "outputs": [],
   "source": [
    "classes = ('Tshirt', 'Trouser','Pullover', 'Dress', 'Coat',\n",
    "        'Sandal','Shirt', 'Sneaker','Bag', 'Anke boot')"
   ]
  },
  {
   "cell_type": "code",
   "execution_count": 11,
   "metadata": {},
   "outputs": [],
   "source": [
    "def matplotlib_imshow(img, one_channel=False):\n",
    "    if one_channel:\n",
    "        img=im.mean(dim=0)\n",
    "    img = img/2 + 0.5\n",
    "    npimg = img.numpy()\n",
    "    if one_channel:\n",
    "        plt.imshow(npimg, cmap='Greys')\n",
    "    else:\n",
    "        plt.imshow(np.transpose(npimg, (1, 2, 0)))"
   ]
  },
  {
   "cell_type": "code",
   "execution_count": 13,
   "metadata": {},
   "outputs": [
    {
     "data": {
      "image/png": "[encoded data removed]",
      "text/plain": [
       "<Figure size 432x288 with 1 Axes>"
      ]
     },
     "metadata": {
      "needs_background": "light"
     },
     "output_type": "display_data"
    }
   ],
   "source": [
    "d = iter(trainloader)\n",
    "images, labels = d.next()\n",
    "matplotlib_imshow(torchvision.utils.make_grid(images))"
   ]
  },
  {
   "cell_type": "code",
   "execution_count": 14,
   "metadata": {},
   "outputs": [],
   "source": [
    "class Fashion(nn.Module):\n",
    "    def __init__(self):\n",
    "        super().__init__()\n",
    "        self.c1 = nn.Linear(784, 256)\n",
    "        self.c2 = nn.Linear(256, 128)\n",
    "        self.c3 = nn.Linear(128, 64)\n",
    "        self.c4 = nn.Linear(64, 10)\n",
    "    def forward(self, x):\n",
    "        x = x.view(x.shape[0], -1)\n",
    "        x = F.relu(self.c1(x))\n",
    "        x = F.relu(self.c2(x))\n",
    "        x = F.relu(self.c3(x))\n",
    "        x = F.log_softmax(self.c4(x), dim=1)\n",
    "        return x"
   ]
  },
  {
   "cell_type": "code",
   "execution_count": 15,
   "metadata": {},
   "outputs": [],
   "source": [
    "model = Fashion()\n",
    "error = nn.NLLLoss()\n",
    "learning_rate = 0.001\n",
    "optimizer = optim.Adam(model.parameters(), lr=learning_rate)"
   ]
  },
  {
   "cell_type": "code",
   "execution_count": null,
   "metadata": {},
   "outputs": [
    {
     "name": "stderr",
     "output_type": "stream",
     "text": [
      "/Users/huazai/anaconda3/lib/python3.7/site-packages/torch/utils/data/dataloader.py:477: UserWarning: This DataLoader will create 10 worker processes in total. Our suggested max number of worker in current system is 8 (`cpuset` is not taken into account), which is smaller than what this DataLoader is going to create. Please be aware that excessive worker creation might get DataLoader running slow or even freeze, lower the worker number to avoid potential slowness/freeze if necessary.\n",
      "  cpuset_checked))\n"
     ]
    },
    {
     "name": "stdout",
     "output_type": "stream",
     "text": [
      "Training loss: 0.0650321970920144 Train Accuracy 97.55\n",
      "Test Accuracy 88.53\n",
      "Training loss: 0.0686785502117008 Train Accuracy 97.45\n",
      "Test Accuracy 88.47\n",
      "Training loss: 0.06078325650768418 Train Accuracy 97.72\n",
      "Test Accuracy 88.24\n",
      "Training loss: 0.060996048785160295 Train Accuracy 97.77\n",
      "Test Accuracy 88.70\n",
      "Training loss: 0.05752478128009692 Train Accuracy 97.87\n",
      "Test Accuracy 88.67\n",
      "Training loss: 0.05940607076378982 Train Accuracy 97.78\n",
      "Test Accuracy 88.78\n",
      "Training loss: 0.058735675803549006 Train Accuracy 97.81\n",
      "Test Accuracy 89.12\n",
      "Training loss: 0.05459432549345722 Train Accuracy 97.91\n",
      "Test Accuracy 88.31\n",
      "Training loss: 0.05197496429658624 Train Accuracy 98.10\n",
      "Test Accuracy 88.21\n",
      "Training loss: 0.05709572502340911 Train Accuracy 97.93\n",
      "Test Accuracy 88.49\n",
      "Training loss: 0.05207669111276502 Train Accuracy 98.16\n",
      "Test Accuracy 88.90\n",
      "Training loss: 0.051858698035642976 Train Accuracy 98.09\n",
      "Test Accuracy 89.04\n",
      "Training loss: 0.05326654741141909 Train Accuracy 98.10\n",
      "Test Accuracy 88.89\n",
      "Training loss: 0.0506769520986298 Train Accuracy 98.17\n",
      "Test Accuracy 88.86\n",
      "Training loss: 0.05018991946308776 Train Accuracy 98.17\n",
      "Test Accuracy 88.87\n",
      "Training loss: 0.04733440179676528 Train Accuracy 98.27\n",
      "Test Accuracy 88.82\n",
      "Training loss: 0.04986384171507704 Train Accuracy 98.22\n",
      "Test Accuracy 89.14\n",
      "Training loss: 0.04840760191981701 Train Accuracy 98.24\n",
      "Test Accuracy 88.70\n",
      "Training loss: 0.04946333473163055 Train Accuracy 98.23\n",
      "Test Accuracy 89.03\n",
      "Training loss: 0.04541280180543983 Train Accuracy 98.37\n",
      "Test Accuracy 88.77\n",
      "Training loss: 0.05287694872797791 Train Accuracy 98.10\n",
      "Test Accuracy 88.93\n",
      "Training loss: 0.054147006313776724 Train Accuracy 98.17\n",
      "Test Accuracy 88.79\n",
      "Training loss: 0.03714401369187375 Train Accuracy 98.71\n",
      "Test Accuracy 88.41\n",
      "Training loss: 0.04978293429765759 Train Accuracy 98.17\n",
      "Test Accuracy 88.96\n",
      "Training loss: 0.0411953206360489 Train Accuracy 98.48\n",
      "Test Accuracy 88.80\n",
      "Training loss: 0.046245371875316424 Train Accuracy 98.38\n",
      "Test Accuracy 88.61\n",
      "Training loss: 0.042835118414962965 Train Accuracy 98.46\n",
      "Test Accuracy 88.78\n",
      "Training loss: 0.04312346451313246 Train Accuracy 98.45\n",
      "Test Accuracy 89.08\n",
      "Training loss: 0.03991571112785216 Train Accuracy 98.58\n",
      "Test Accuracy 88.92\n",
      "Training loss: 0.047638709280623255 Train Accuracy 98.38\n",
      "Test Accuracy 88.58\n",
      "Training loss: 0.04287809225889335 Train Accuracy 98.48\n",
      "Test Accuracy 89.09\n",
      "Training loss: 0.03806501520492734 Train Accuracy 98.65\n",
      "Test Accuracy 87.98\n",
      "Training loss: 0.037653201123058394 Train Accuracy 98.63\n",
      "Test Accuracy 89.15\n",
      "Training loss: 0.04434567103884729 Train Accuracy 98.44\n",
      "Test Accuracy 88.91\n"
     ]
    }
   ],
   "source": [
    "# 在训练过程中记录下每个epoch的训练集精度和测试集精度\n",
    "num_epochs = 50\n",
    "for e in range(num_epochs):\n",
    "    running_loss = 0\n",
    "    total_train = 0\n",
    "    correct_train = 0\n",
    "    for images, labels in trainloader:\n",
    "        log_ps = model(images)\n",
    "        mx_index_train = torch.argmax(log_ps, dim=1)\n",
    "        total_train += labels.numel()\n",
    "        correct_train += sum(mx_index_train == labels).item()\n",
    "        loss = error(log_ps, labels)\n",
    "        optimizer.zero_grad()\n",
    "        loss.backward()\n",
    "        optimizer.step()\n",
    "        running_loss += loss.item()\n",
    "    else:\n",
    "        print(f\"Training loss: {running_loss/len(trainloader)}\", end=\" \")\n",
    "        print(f\"Train Accuracy {correct_train/total_train*100:.2f}\")\n",
    "    \n",
    "    model.eval()\n",
    "    with torch.no_grad():\n",
    "        total = 0\n",
    "        correct = 0\n",
    "        for images, labels in testloader:\n",
    "            log_ps = model(images)\n",
    "            mx_index = torch.argmax(log_ps, dim=1)\n",
    "            total += labels.numel()\n",
    "            correct += sum(mx_index ==labels).item()\n",
    "        print(f\"Test Accuracy {correct/total*100:.2f}\")"
   ]
  },
  {
   "cell_type": "code",
   "execution_count": null,
   "metadata": {},
   "outputs": [],
   "source": []
  }
 ],
 "metadata": {
  "kernelspec": {
   "display_name": "Python 3",
   "language": "python",
   "name": "python3"
  },
  "language_info": {
   "codemirror_mode": {
    "name": "ipython",
    "version": 3
   },
   "file_extension": ".py",
   "mimetype": "text/x-python",
   "name": "python",
   "nbconvert_exporter": "python",
   "pygments_lexer": "ipython3",
   "version": "3.7.1"
  }
 },
 "nbformat": 4,
 "nbformat_minor": 2
}
